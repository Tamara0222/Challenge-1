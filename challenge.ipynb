{
 "cells": [
  {
   "cell_type": "markdown",
   "id": "57f7f31a",
   "metadata": {},
   "source": [
    "# Análisis de Datos: Rendimiento de Tiendas Alura"
   ]
  },
  {
   "cell_type": "markdown",
   "id": "4c8ae034",
   "metadata": {},
   "source": [
    "En este análisis, examinaremos las ventas de cuatro tiendas de Alura para identificar patrones de compra, evaluar la eficiencia de las categorías de productos y vendedores, y obtener información clave para la toma de decisiones estratégicas. Los datos se obtienen de los archivos proporcionados: `tienda_1 .csv`, `tienda_2.csv`, `tienda_3.csv`, y `tienda_4.csv`."
   ]
  },
  {
   "cell_type": "markdown",
   "id": "5ab4938f",
   "metadata": {},
   "source": [
    "## 1. Preparación de los Datos"
   ]
  },
  {
   "cell_type": "code",
   "execution_count": 1,
   "id": "6bf0cca0",
   "metadata": {},
   "outputs": [
    {
     "data": {
      "text/html": [
       "<div>\n",
       "<style scoped>\n",
       "    .dataframe tbody tr th:only-of-type {\n",
       "        vertical-align: middle;\n",
       "    }\n",
       "\n",
       "    .dataframe tbody tr th {\n",
       "        vertical-align: top;\n",
       "    }\n",
       "\n",
       "    .dataframe thead th {\n",
       "        text-align: right;\n",
       "    }\n",
       "</style>\n",
       "<table border=\"1\" class=\"dataframe\">\n",
       "  <thead>\n",
       "    <tr style=\"text-align: right;\">\n",
       "      <th></th>\n",
       "      <th>Producto</th>\n",
       "      <th>Categoría del Producto</th>\n",
       "      <th>Precio</th>\n",
       "      <th>Costo de envío</th>\n",
       "      <th>Fecha de Compra</th>\n",
       "      <th>Vendedor</th>\n",
       "      <th>Lugar de Compra</th>\n",
       "      <th>Calificación</th>\n",
       "      <th>Método de pago</th>\n",
       "      <th>Cantidad de cuotas</th>\n",
       "      <th>lat</th>\n",
       "      <th>lon</th>\n",
       "    </tr>\n",
       "  </thead>\n",
       "  <tbody>\n",
       "    <tr>\n",
       "      <th>0</th>\n",
       "      <td>Asistente virtual</td>\n",
       "      <td>Electrónicos</td>\n",
       "      <td>164300.0</td>\n",
       "      <td>6900.0</td>\n",
       "      <td>2021-01-16 00:00:00</td>\n",
       "      <td>Pedro Gomez</td>\n",
       "      <td>Bogotá</td>\n",
       "      <td>4</td>\n",
       "      <td>Tarjeta de crédito</td>\n",
       "      <td>8</td>\n",
       "      <td>4.60971</td>\n",
       "      <td>-74.08175</td>\n",
       "    </tr>\n",
       "    <tr>\n",
       "      <th>1</th>\n",
       "      <td>Mesa de comedor</td>\n",
       "      <td>Muebles</td>\n",
       "      <td>192300.0</td>\n",
       "      <td>8400.0</td>\n",
       "      <td>2022-05-18 00:00:00</td>\n",
       "      <td>Beatriz Morales</td>\n",
       "      <td>Medellín</td>\n",
       "      <td>1</td>\n",
       "      <td>Tarjeta de crédito</td>\n",
       "      <td>4</td>\n",
       "      <td>6.25184</td>\n",
       "      <td>-75.56359</td>\n",
       "    </tr>\n",
       "    <tr>\n",
       "      <th>2</th>\n",
       "      <td>Juego de mesa</td>\n",
       "      <td>Juguetes</td>\n",
       "      <td>209600.0</td>\n",
       "      <td>15900.0</td>\n",
       "      <td>2021-03-15 00:00:00</td>\n",
       "      <td>Juan Fernandez</td>\n",
       "      <td>Cartagena</td>\n",
       "      <td>1</td>\n",
       "      <td>Tarjeta de crédito</td>\n",
       "      <td>1</td>\n",
       "      <td>10.39972</td>\n",
       "      <td>-75.51444</td>\n",
       "    </tr>\n",
       "    <tr>\n",
       "      <th>3</th>\n",
       "      <td>Microondas</td>\n",
       "      <td>Electrodomésticos</td>\n",
       "      <td>757500.0</td>\n",
       "      <td>41000.0</td>\n",
       "      <td>2022-05-03 00:00:00</td>\n",
       "      <td>Juan Fernandez</td>\n",
       "      <td>Cali</td>\n",
       "      <td>4</td>\n",
       "      <td>Nequi</td>\n",
       "      <td>1</td>\n",
       "      <td>3.43722</td>\n",
       "      <td>-76.52250</td>\n",
       "    </tr>\n",
       "    <tr>\n",
       "      <th>4</th>\n",
       "      <td>Silla de oficina</td>\n",
       "      <td>Muebles</td>\n",
       "      <td>335200.0</td>\n",
       "      <td>20200.0</td>\n",
       "      <td>2020-11-07 00:00:00</td>\n",
       "      <td>Maria Alfonso</td>\n",
       "      <td>Medellín</td>\n",
       "      <td>5</td>\n",
       "      <td>Nequi</td>\n",
       "      <td>1</td>\n",
       "      <td>6.25184</td>\n",
       "      <td>-75.56359</td>\n",
       "    </tr>\n",
       "  </tbody>\n",
       "</table>\n",
       "</div>"
      ],
      "text/plain": [
       "          Producto Categoría del Producto    Precio  Costo de envío Fecha de Compra\\\n",
       "0  Asistente virtual         Electrónicos  164300.0         6900.0      2021-01-16   \n",
       "1    Mesa de comedor              Muebles  192300.0         8400.0      2022-05-18   \n",
       "2      Juego de mesa             Juguetes  209600.0        15900.0      2021-03-15   \n",
       "3         Microondas    Electrodomésticos  757500.0        41000.0      2022-05-03   \n",
       "4   Silla de oficina              Muebles  335200.0        20200.0      2020-11-07   \n",
       "\n",
       "          Vendedor Lugar de Compra  Calificación      Método de pago  Cantidad de cuotas       lat       lon\n",
       "0      Pedro Gomez          Bogotá             4  Tarjeta de crédito                   8   4.60971 -74.08175\n",
       "1  Beatriz Morales        Medellín             1  Tarjeta de crédito                   4   6.25184 -75.56359\n",
       "2   Juan Fernandez       Cartagena             1  Tarjeta de crédito                   1  10.39972 -75.51444\n",
       "3   Juan Fernandez            Cali             4               Nequi                   1   3.43722 -76.52250\n",
       "4    Maria Alfonso        Medellín             5               Nequi                   1   6.25184 -75.56359"
      ]
     },
     "execution_count": 1,
     "metadata": {},
     "output_type": "execute_result"
    }
   ],
   "source": [
    "import pandas as pd\n",
    "\n",
    "tiendas = {\n",
    "    'tienda_1': pd.read_csv('tienda_1 .csv'),\n",
    "    'tienda_2': pd.read_csv('tienda_2.csv'),\n",
    "    'tienda_3': pd.read_csv('tienda_3.csv'),\n",
    "    'tienda_4': pd.read_csv('tienda_4.csv')\n",
    "}\n",
    "\n",
    "tienda_unica = pd.DataFrame()\n",
    "for tienda in tiendas.values():\n",
    "    tienda['Fecha de Compra'] = pd.to_datetime(tienda['Fecha de Compra'], format='%d/%m/%Y')\n",
    "    tienda_unica = pd.concat([tienda_unica, tienda], ignore_index=True)\n",
    "    \n",
    "tienda_unica.head()"
   ]
  },
  {
   "cell_type": "markdown",
   "id": "e6a17b0d",
   "metadata": {},
   "source": [
    "## 2. Análisis del Rendimiento Comercial"
   ]
  },
  {
   "cell_type": "code",
   "execution_count": 2,
   "id": "b304f445",
   "metadata": {},
   "outputs": [
    {
     "name": "stdout",
     "output_type": "stream",
     "text": [
      "Ventas por Categoría de Producto:\n",
      "Categoría del Producto\n",
      "Artículos para el hogar    693\n",
      "Deportes y diversión       626\n",
      "Electrodomésticos          816\n",
      "Electrónicos               887\n",
      "Instrumentos musicales     193\n",
      "Juguetes                   568\n",
      "Libros                     193\n",
      "Muebles                   1024\n",
      "Name: count, dtype: int64\n"
     ]
    },
    {
     "data": {
      "text/plain": [
       "<Axes: title={'center': 'Distribución de Ventas por Categoría de Producto'}>"
      ]
     },
     "metadata": {},
     "output_type": "display_data"
    }
   ],
   "source": [
    "import matplotlib.pyplot as plt\n",
    "\n",
    "ventas_por_categoria = tienda_unica['Categoría del Producto'].value_counts()\n",
    "print(\"Ventas por Categoría de Producto:\\n\", ventas_por_categoria)\n",
    "\n",
    "plt.figure(figsize=(10, 6))\n",
    "ventas_por_categoria.plot(kind='bar', color='skyblue')\n",
    "plt.title('Distribución de Ventas por Categoría de Producto')\n",
    "plt.xlabel('Categoría del Producto')\n",
    "plt.ylabel('Número de Ventas')\n",
    "plt.xticks(rotation=45)\n",
    "plt.show()\n"
   ]
  },
  {
   "cell_type": "code",
   "execution_count": 3,
   "id": "76d1a613",
   "metadata": {},
   "outputs": [
    {
     "name": "stdout",
     "output_type": "stream",
     "text": [
      "Calificación promedio por Método de pago:\n",
      "Método de pago\n",
      "Cupón                 4.072289\n",
      "Nequi                 3.987747\n",
      "Tarjeta de crédito    3.992686\n",
      "Name: Calificación, dtype: float64\n"
     ]
    },
    {
     "data": {
      "text/plain": [
       "<Axes: title={'center': 'Calificación Promedio por Método de Pago'}>"
      ]
     },
     "metadata": {},
     "output_type": "display_data"
    }
   ],
   "source": [
    "calificacion_por_pago = tienda_unica.groupby('Método de pago')['Calificación'].mean()\n",
    "print(\"Calificación promedio por Método de pago:\\n\", calificacion_por_pago)\n",
    "\n",
    "plt.figure(figsize=(8, 5))\n",
    "calificacion_por_pago.plot(kind='bar', color=['lightgreen', 'salmon', 'cornflowerblue'])\n",
    "plt.title('Calificación Promedio por Método de Pago')\n",
    "plt.xlabel('Método de Pago')\n",
    "plt.ylabel('Calificación Promedio')\n",
    "plt.xticks(rotation=0)\n",
    "plt.ylim(0, 5)\n",
    "plt.show()\n"
   ]
  },
  {
   "cell_type": "code",
   "execution_count": 4,
   "id": "673f3246",
   "metadata": {},
   "outputs": [],
   "source": [
    "import folium\n",
    "from folium.plugins import HeatMap\n",
    "\n",
    "# Crear un mapa de calor ponderado por el precio del producto\n",
    "mapa_ventas = folium.Map(location=[tienda_unica['lat'].mean(), tienda_unica['lon'].mean()], zoom_start=5)\n",
    "\n",
    "# Preparar los datos con latitud, longitud y precio para el mapa de calor\n",
    "heatmap_data = tienda_unica[['lat', 'lon', 'Precio']].values.tolist()\n",
    "\n",
    "HeatMap(heatmap_data).add_to(mapa_ventas)\n",
    "\n",
    "mapa_ventas"
   ]
  },
  {
   "cell_type": "markdown",
   "id": "e9203677",
   "metadata": {},
   "source": [
    "## 3. Conclusiones y Recomendaciones\n",
    "\n",
    "Basado en el análisis de los datos consolidados, se pueden extraer las siguientes conclusiones:\n",
    "\n",
    "1.  **Categorías de alto impacto:** La categoría de 'Muebles' lidera en cantidad de ventas, seguida de cerca por 'Electrónicos'. [cite_start]Estas categorías representan oportunidades clave para el negocio. [cite: 1]\n",
    "\n",
    "2.  **Satisfacción del cliente:** A pesar de tener un bajo número de cuotas, los clientes que utilizan `Cupón` tienden a dar la calificación más alta a sus compras, superando a los que pagan con `Nequi` o `Tarjeta de crédito`. [cite_start]Esto sugiere que los cupones son un método eficaz para generar una alta satisfacción. [cite: 1, 2, 3, 4]\n",
    "\n",
    "3.  [cite_start]**Concentración geográfica de valor:** El mapa de calor, que pondera las ventas por el precio del producto, muestra que la mayor concentración de ingresos proviene de ciudades como Bogotá y Medellín. [cite: 1]\n",
    "\n",
    "### Recomendaciones Estratégicas\n",
    "\n",
    "* **Priorizar categorías líderes:** Invertir más recursos en las categorías de **Muebles** y **Electrónicos** para capitalizar su alto volumen de ventas.\n",
    "* **Promover los cupones:** Expandir las campañas de marketing que ofrezcan cupones de descuento, ya que está directamente relacionado con una mayor satisfacción del cliente.\n",
    "* **Optimizar la logística:** Fortalecer la presencia y los servicios de envío en las áreas de mayor concentración de valor (Bogotá y Medellín) para maximizar la rentabilidad.\n"
   ]
  },
  {
   "cell_type": "code",
   "execution_count": null,
   "id": "e8a4d01a",
   "metadata": {},
   "outputs": [],
   "source": []
  }
 ],
 "metadata": {
  "kernelspec": {
   "display_name": "Python 3",
   "language": "python",
   "name": "python3"
  },
  "language_info": {
   "codemirror_mode": {
    "name": "ipython",
    "version": 3
   },
   "file_extension": ".py",
   "mimetype": "text/x-python",
   "name": "python",
   "nbconvert_exporter": "python",
   "pygments_lexer": "ipython3",
   "version": "3.10.8"
  }
 },
 "nbformat": 4,
 "nbformat_minor": 5
}
